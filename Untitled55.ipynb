{
  "nbformat": 4,
  "nbformat_minor": 0,
  "metadata": {
    "colab": {
      "name": "Untitled55.ipynb",
      "provenance": [],
      "authorship_tag": "ABX9TyMLv2U/ngkh0ciF/FGEgssz",
      "include_colab_link": true
    },
    "kernelspec": {
      "name": "python3",
      "display_name": "Python 3"
    },
    "language_info": {
      "name": "python"
    }
  },
  "cells": [
    {
      "cell_type": "markdown",
      "metadata": {
        "id": "view-in-github",
        "colab_type": "text"
      },
      "source": [
        "<a href=\"https://colab.research.google.com/github/JuMadeira/Calculadora/blob/main/Untitled55.ipynb\" target=\"_parent\"><img src=\"https://colab.research.google.com/assets/colab-badge.svg\" alt=\"Open In Colab\"/></a>"
      ]
    },
    {
      "cell_type": "code",
      "execution_count": 1,
      "metadata": {
        "colab": {
          "base_uri": "https://localhost:8080/"
        },
        "id": "Uaa0rYZ7JnOJ",
        "outputId": "996f57ed-7d70-466d-8fcf-51b064fb0a70"
      },
      "outputs": [
        {
          "output_type": "stream",
          "name": "stdout",
          "text": [
            "Requirement already satisfied: requests in /usr/local/lib/python3.7/dist-packages (2.23.0)\n",
            "Requirement already satisfied: chardet<4,>=3.0.2 in /usr/local/lib/python3.7/dist-packages (from requests) (3.0.4)\n",
            "Requirement already satisfied: certifi>=2017.4.17 in /usr/local/lib/python3.7/dist-packages (from requests) (2021.10.8)\n",
            "Requirement already satisfied: urllib3!=1.25.0,!=1.25.1,<1.26,>=1.21.1 in /usr/local/lib/python3.7/dist-packages (from requests) (1.24.3)\n",
            "Requirement already satisfied: idna<3,>=2.5 in /usr/local/lib/python3.7/dist-packages (from requests) (2.10)\n"
          ]
        }
      ],
      "source": [
        "!pip install requests"
      ]
    },
    {
      "cell_type": "code",
      "source": [
        "import requests"
      ],
      "metadata": {
        "id": "IUq8qOygJ0Km"
      },
      "execution_count": 2,
      "outputs": []
    },
    {
      "cell_type": "code",
      "source": [
        "url = 'https://api.exchangerate-api.com/v6/latest'"
      ],
      "metadata": {
        "id": "BKhmLCTdJ2h1"
      },
      "execution_count": 3,
      "outputs": []
    },
    {
      "cell_type": "code",
      "source": [
        "req = requests.get(url)\n",
        "print(req.status_code)"
      ],
      "metadata": {
        "colab": {
          "base_uri": "https://localhost:8080/"
        },
        "id": "-1IxhiuVKNhb",
        "outputId": "1c9653ca-db43-4f99-a6bf-19ac173a2257"
      },
      "execution_count": 4,
      "outputs": [
        {
          "output_type": "stream",
          "name": "stdout",
          "text": [
            "200\n"
          ]
        }
      ]
    },
    {
      "cell_type": "code",
      "source": [
        "dados = req.json()\n",
        "print(dados)"
      ],
      "metadata": {
        "colab": {
          "base_uri": "https://localhost:8080/"
        },
        "id": "fzaywGz1Ki2N",
        "outputId": "27088875-e262-4eff-e1e0-aced8310c62c"
      },
      "execution_count": 7,
      "outputs": [
        {
          "output_type": "stream",
          "name": "stdout",
          "text": [
            "{'result': 'success', 'provider': 'https://www.exchangerate-api.com', 'documentation': 'https://www.exchangerate-api.com/docs/free', 'terms_of_use': 'https://www.exchangerate-api.com/terms', 'time_last_update_unix': 1647907352, 'time_last_update_utc': 'Tue, 22 Mar 2022 00:02:32 +0000', 'time_next_update_unix': 1647995502, 'time_next_update_utc': 'Wed, 23 Mar 2022 00:31:42 +0000', 'time_eol_unix': 0, 'base_code': 'USD', 'rates': {'USD': 1, 'AED': 3.67, 'AFN': 89.07, 'ALL': 111.49, 'AMD': 489.1, 'ANG': 1.79, 'AOA': 456.84, 'ARS': 109.7, 'AUD': 1.35, 'AWG': 1.79, 'AZN': 1.7, 'BAM': 1.77, 'BBD': 2, 'BDT': 85.39, 'BGN': 1.77, 'BHD': 0.376, 'BIF': 2003.84, 'BMD': 1, 'BND': 1.36, 'BOB': 6.87, 'BRL': 5, 'BSD': 1, 'BTN': 76.14, 'BWP': 11.6, 'BYN': 3.05, 'BZD': 2, 'CAD': 1.26, 'CDF': 1999.11, 'CHF': 0.933, 'CLP': 803.49, 'CNY': 6.36, 'COP': 3823.02, 'CRC': 644.81, 'CUP': 24, 'CVE': 99.97, 'CZK': 22.42, 'DJF': 177.72, 'DKK': 6.76, 'DOP': 54.82, 'DZD': 143.07, 'EGP': 16.57, 'ERN': 15, 'ETB': 51.08, 'EUR': 0.907, 'FJD': 2.1, 'FKP': 0.76, 'FOK': 6.76, 'GBP': 0.76, 'GEL': 3.22, 'GGP': 0.76, 'GHS': 8.28, 'GIP': 0.76, 'GMD': 53.45, 'GNF': 8937.35, 'GTQ': 7.7, 'GYD': 209.09, 'HKD': 7.83, 'HNL': 24.52, 'HRK': 6.83, 'HTG': 105.27, 'HUF': 338.98, 'IDR': 14253.58, 'ILS': 3.24, 'IMP': 0.76, 'INR': 76.14, 'IQD': 1459.1, 'IRR': 42067.03, 'ISK': 129.04, 'JEP': 0.76, 'JMD': 152.67, 'JOD': 0.709, 'JPY': 119.41, 'KES': 114.65, 'KGS': 102.94, 'KHR': 4038.67, 'KID': 1.35, 'KMF': 446.04, 'KRW': 1215.99, 'KWD': 0.3, 'KYD': 0.833, 'KZT': 507.74, 'LAK': 12629.64, 'LBP': 1507.5, 'LKR': 274.07, 'LRD': 153.63, 'LSL': 14.94, 'LYD': 4.66, 'MAD': 9.54, 'MDL': 18.45, 'MGA': 3047.18, 'MKD': 56.05, 'MMK': 1766.09, 'MNT': 2914.22, 'MOP': 8.06, 'MRU': 36.37, 'MUR': 43.8, 'MVR': 15.36, 'MWK': 820.33, 'MXN': 20.37, 'MYR': 4.19, 'MZN': 63.98, 'NAD': 14.94, 'NGN': 415.96, 'NIO': 35.77, 'NOK': 8.75, 'NPR': 121.82, 'NZD': 1.45, 'OMR': 0.384, 'PAB': 1, 'PEN': 3.78, 'PGK': 3.53, 'PHP': 52.43, 'PKR': 181.04, 'PLN': 4.25, 'PYG': 6804.12, 'QAR': 3.64, 'RON': 4.48, 'RSD': 106.59, 'RUB': 103.79, 'RWF': 1048.13, 'SAR': 3.75, 'SBD': 7.92, 'SCR': 14.44, 'SDG': 446.22, 'SEK': 9.47, 'SGD': 1.36, 'SHP': 0.76, 'SLL': 11633.13, 'SOS': 578.43, 'SRD': 20.61, 'SSP': 428.36, 'STN': 22.21, 'SYP': 2517.65, 'SZL': 14.94, 'THB': 33.53, 'TJS': 11.69, 'TMT': 3.5, 'TND': 2.8, 'TOP': 2.23, 'TRY': 14.83, 'TTD': 6.76, 'TVD': 1.35, 'TWD': 28.38, 'TZS': 2318.46, 'UAH': 29.94, 'UGX': 3583.21, 'UYU': 42.6, 'UZS': 11341.26, 'VES': 4.29, 'VND': 22839.03, 'VUV': 113.24, 'WST': 2.56, 'XAF': 594.72, 'XCD': 2.7, 'XDR': 0.722, 'XOF': 594.72, 'XPF': 108.19, 'YER': 250.73, 'ZAR': 14.94, 'ZMW': 17.73, 'ZWL': 134.09}}\n"
          ]
        }
      ]
    },
    {
      "cell_type": "code",
      "source": [
        "valor_reais = float(input('Informe o valor em R$ a ser convertido\\n'))\n",
        "cotacao = dados['rates']['BRL']\n",
        "print(f'RS{valor_reais} em dólar valem U$$ {(valor_reais / cotacao):.2f}')"
      ],
      "metadata": {
        "colab": {
          "base_uri": "https://localhost:8080/"
        },
        "id": "NMXVkmOXLGnd",
        "outputId": "06fdfd3f-0115-4be5-b737-96cdbd18c47b"
      },
      "execution_count": 11,
      "outputs": [
        {
          "output_type": "stream",
          "name": "stdout",
          "text": [
            "Informe o valor em R$ a ser convertido\n",
            "1000\n",
            "RS1000.0 em dólar valem U$$ 200.00\n"
          ]
        }
      ]
    }
  ]
}